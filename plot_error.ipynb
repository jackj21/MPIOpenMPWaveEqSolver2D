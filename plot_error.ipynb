{
 "cells": [
  {
   "cell_type": "code",
   "execution_count": 6,
   "metadata": {},
   "outputs": [],
   "source": [
    "import numpy as np\n",
    "import matplotlib.pyplot as plt\n",
    "\n",
    "def load_data(filename):\n",
    "    \"\"\"\n",
    "    Reads a 2D floating point array in a simple format.\n",
    "\n",
    "    * The first 4 bytes are an unsigned integer with the number of rows.\n",
    "    * The second 4 bytes are an unsigned integer with the number of columns.\n",
    "    * The remaining data are rows*cols 32-bit floats.\n",
    "\n",
    "    Parameters\n",
    "    ----------\n",
    "    filename: string or path\n",
    "       The filename to write to\n",
    "\n",
    "    Returns\n",
    "    -------\n",
    "    arr: np.ndarray\n",
    "       Array of float32s read in.\n",
    "\n",
    "    \"\"\"\n",
    "\n",
    "    # Open a file handle for binary reading\n",
    "    with open(filename, \"rb\") as infile:\n",
    "\n",
    "        # Read 2 unsigned integers to get the array's shape\n",
    "        sh = np.fromfile(infile, dtype=np.uint32, count=1)\n",
    "\n",
    "        # Read the remaining data\n",
    "        arr = np.fromfile(infile, dtype=np.float32, count=np.prod(sh))\n",
    "\n",
    "        # Reshape the array to the expected shape\n",
    "        arr.shape = sh\n",
    "\n",
    "    return arr\n"
   ]
  },
  {
   "cell_type": "code",
   "execution_count": 7,
   "metadata": {},
   "outputs": [],
   "source": [
    "#files = [\"error_00000251.dat\", \n",
    " #        \"error_00000501.dat\",\n",
    " #        \"error_00001001.dat\",\n",
    " #        \"error_00002501.dat\" ]\n",
    "files = ['error_00000101.dat']"
   ]
  },
  {
   "cell_type": "code",
   "execution_count": 11,
   "metadata": {},
   "outputs": [
    {
     "data": {
      "image/png": "[encoded data removed]",
      "text/plain": [
       "<Figure size 432x288 with 1 Axes>"
      ]
     },
     "metadata": {
      "needs_background": "light"
     },
     "output_type": "display_data"
    }
   ],
   "source": [
    "for file in files:\n",
    "\n",
    "    error = load_data(file)\n",
    "\n",
    "    times = np.linspace(0., 2.5, error.shape[0])\n",
    "    \n",
    "    #plt.plot(times, error, label=file)\n",
    "    plt.semilogy(times, error, label=file)\n",
    "\n",
    "plt.legend()\n",
    "\n",
    "plt.show()"
   ]
  },
  {
   "cell_type": "code",
   "execution_count": null,
   "metadata": {},
   "outputs": [],
   "source": []
  }
 ],
 "metadata": {
  "kernelspec": {
   "display_name": "Python 3",
   "language": "python",
   "name": "python3"
  },
  "language_info": {
   "codemirror_mode": {
    "name": "ipython",
    "version": 3
   },
   "file_extension": ".py",
   "mimetype": "text/x-python",
   "name": "python",
   "nbconvert_exporter": "python",
   "pygments_lexer": "ipython3",
   "version": "3.8.6"
  }
 },
 "nbformat": 4,
 "nbformat_minor": 4
}
