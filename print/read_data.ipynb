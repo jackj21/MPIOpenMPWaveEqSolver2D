{
 "cells": [
  {
   "cell_type": "code",
   "execution_count": 1,
   "metadata": {},
   "outputs": [],
   "source": [
    "import numpy as np"
   ]
  },
  {
   "cell_type": "code",
   "execution_count": 2,
   "metadata": {},
   "outputs": [],
   "source": [
    "def save_data(filename, arr):\n",
    "    \"\"\"\n",
    "    Saves a 2D floating point array in a simple format.\n",
    "\n",
    "    * The first 4 bytes are an unsigned integer with the number of rows.\n",
    "    * The second 4 bytes are an unsigned integer with the number of columns.\n",
    "    * The remaining data are rows*cols 32-bit floats.\n",
    "\n",
    "    Parameters\n",
    "    ----------\n",
    "    filename: string or path\n",
    "       The filename to write to\n",
    "    arr: np.ndarray\n",
    "       Array of float32s to write out.\n",
    "\n",
    "    \"\"\"\n",
    "\n",
    "    # Open a file handle for binary writing\n",
    "    with open(filename, \"wb\") as outfile:\n",
    "\n",
    "        # Get the arrays shape as unsigned integers and write to file\n",
    "        sh = np.asarray(arr.shape).astype(np.uint32)\n",
    "        sh.tofile(outfile)\n",
    "\n",
    "        # Convert the data to float32 and write it to file\n",
    "        arr = arr.astype(np.float32)\n",
    "        arr.tofile(outfile)\n"
   ]
  },
  {
   "cell_type": "code",
   "execution_count": 3,
   "metadata": {},
   "outputs": [],
   "source": [
    "def load_data(filename):\n",
    "    \"\"\"\n",
    "    Reads a 2D floating point array in a simple format.\n",
    "\n",
    "    * The first 4 bytes are an unsigned integer with the number of rows.\n",
    "    * The second 4 bytes are an unsigned integer with the number of columns.\n",
    "    * The remaining data are rows*cols 32-bit floats.\n",
    "\n",
    "    Parameters\n",
    "    ----------\n",
    "    filename: string or path\n",
    "       The filename to write to\n",
    "\n",
    "    Returns\n",
    "    -------\n",
    "    arr: np.ndarray\n",
    "       Array of float32s read in.\n",
    "\n",
    "    \"\"\"\n",
    "\n",
    "    # Open a file handle for binary reading\n",
    "    with open(filename, \"rb\") as infile:\n",
    "\n",
    "        # Read 2 unsigned integers to get the array's shape\n",
    "        sh = np.fromfile(infile, dtype=np.uint32, count=2)\n",
    "\n",
    "        # Read the remaining data\n",
    "        arr = np.fromfile(infile, dtype=np.float32, count=np.prod(sh))\n",
    "\n",
    "        # Reshape the array to the expected shape\n",
    "        arr.shape = sh\n",
    "\n",
    "    return arr"
   ]
  },
  {
   "cell_type": "code",
   "execution_count": 17,
   "metadata": {},
   "outputs": [
    {
     "data": {
      "text/plain": [
       "array([[ 0.0000000e+00,  0.0000000e+00,  0.0000000e+00,  0.0000000e+00,\n",
       "         0.0000000e+00, -0.0000000e+00, -0.0000000e+00, -0.0000000e+00,\n",
       "        -0.0000000e+00, -0.0000000e+00, -0.0000000e+00,  0.0000000e+00],\n",
       "       [ 0.0000000e+00,  0.0000000e+00,  0.0000000e+00,  0.0000000e+00,\n",
       "         0.0000000e+00,  0.0000000e+00,  0.0000000e+00,  0.0000000e+00,\n",
       "         0.0000000e+00,  0.0000000e+00,  0.0000000e+00,  0.0000000e+00],\n",
       "       [ 5.3513789e-01,  9.0037328e-01,  9.7974646e-01,  7.4805707e-01,\n",
       "         2.7886483e-01, -2.7886501e-01, -7.4805707e-01, -9.7974652e-01,\n",
       "        -9.0037310e-01, -5.3513771e-01, -2.4243634e-16,  0.0000000e+00],\n",
       "       [ 0.0000000e+00,  0.0000000e+00,  0.0000000e+00,  0.0000000e+00,\n",
       "         0.0000000e+00,  0.0000000e+00,  0.0000000e+00,  0.0000000e+00,\n",
       "         0.0000000e+00,  0.0000000e+00,  0.0000000e+00, -0.0000000e+00],\n",
       "       [-1.5231618e-01, -2.5627303e-01, -2.7886501e-01, -2.1291932e-01,\n",
       "        -7.9373240e-02,  7.9373285e-02,  2.1291932e-01,  2.7886504e-01,\n",
       "         2.5627300e-01,  1.5231614e-01,  6.9004598e-17,  0.0000000e+00],\n",
       "       [ 0.0000000e+00,  0.0000000e+00,  0.0000000e+00,  0.0000000e+00,\n",
       "         0.0000000e+00,  0.0000000e+00,  0.0000000e+00,  0.0000000e+00,\n",
       "         0.0000000e+00,  0.0000000e+00,  0.0000000e+00, -0.0000000e+00],\n",
       "       [-4.9178413e-01, -8.2743025e-01, -9.0037310e-01, -6.8745387e-01,\n",
       "        -2.5627282e-01,  2.5627300e-01,  6.8745387e-01,  9.0037310e-01,\n",
       "         8.2743013e-01,  4.9178398e-01,  2.2279555e-16,  0.0000000e+00],\n",
       "       [ 0.0000000e+00,  0.0000000e+00,  0.0000000e+00,  0.0000000e+00,\n",
       "         0.0000000e+00,  0.0000000e+00,  0.0000000e+00,  0.0000000e+00,\n",
       "         0.0000000e+00,  0.0000000e+00,  0.0000000e+00,  0.0000000e+00],\n",
       "       [ 2.9229259e-01,  4.9178436e-01,  5.3513801e-01,  4.0858918e-01,\n",
       "         1.5231612e-01, -1.5231623e-01, -4.0858918e-01, -5.3513807e-01,\n",
       "        -4.9178427e-01, -2.9229251e-01, -1.3241886e-16,  0.0000000e+00],\n",
       "       [ 0.0000000e+00,  0.0000000e+00,  0.0000000e+00,  0.0000000e+00,\n",
       "         0.0000000e+00,  0.0000000e+00,  0.0000000e+00,  0.0000000e+00,\n",
       "         0.0000000e+00,  0.0000000e+00,  0.0000000e+00,  0.0000000e+00],\n",
       "       [ 4.0858907e-01,  6.8745399e-01,  7.4805707e-01,  5.7115734e-01,\n",
       "         2.1291919e-01, -2.1291932e-01, -5.7115734e-01, -7.4805713e-01,\n",
       "        -6.8745387e-01, -4.0858895e-01, -1.8510525e-16,  0.0000000e+00],\n",
       "       [ 0.0000000e+00,  0.0000000e+00,  0.0000000e+00,  0.0000000e+00,\n",
       "         0.0000000e+00,  0.0000000e+00,  0.0000000e+00,  0.0000000e+00,\n",
       "         0.0000000e+00,  0.0000000e+00,  0.0000000e+00, -0.0000000e+00]],\n",
       "      dtype=float32)"
      ]
     },
     "execution_count": 17,
     "metadata": {},
     "output_type": "execute_result"
    }
   ],
   "source": [
    "load_data(\"wave_print_00001.bin\")"
   ]
  },
  {
   "cell_type": "code",
   "execution_count": null,
   "metadata": {},
   "outputs": [],
   "source": []
  }
 ],
 "metadata": {
  "kernelspec": {
   "display_name": "Python 3",
   "language": "python",
   "name": "python3"
  },
  "language_info": {
   "codemirror_mode": {
    "name": "ipython",
    "version": 3
   },
   "file_extension": ".py",
   "mimetype": "text/x-python",
   "name": "python",
   "nbconvert_exporter": "python",
   "pygments_lexer": "ipython3",
   "version": "3.8.6"
  }
 },
 "nbformat": 4,
 "nbformat_minor": 4
}
