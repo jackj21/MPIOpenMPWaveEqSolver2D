{
 "cells": [
  {
   "cell_type": "code",
   "execution_count": 1,
   "metadata": {},
   "outputs": [],
   "source": [
    "import numpy as np"
   ]
  },
  {
   "cell_type": "code",
   "execution_count": 2,
   "metadata": {},
   "outputs": [],
   "source": [
    "def save_data(filename, arr):\n",
    "    \"\"\"\n",
    "    Saves a 2D floating point array in a simple format.\n",
    "\n",
    "    * The first 4 bytes are an unsigned integer with the number of rows.\n",
    "    * The second 4 bytes are an unsigned integer with the number of columns.\n",
    "    * The remaining data are rows*cols 32-bit floats.\n",
    "\n",
    "    Parameters\n",
    "    ----------\n",
    "    filename: string or path\n",
    "       The filename to write to\n",
    "    arr: np.ndarray\n",
    "       Array of float32s to write out.\n",
    "\n",
    "    \"\"\"\n",
    "\n",
    "    # Open a file handle for binary writing\n",
    "    with open(filename, \"wb\") as outfile:\n",
    "\n",
    "        # Get the arrays shape as unsigned integers and write to file\n",
    "        sh = np.asarray(arr.shape).astype(np.uint32)\n",
    "        sh.tofile(outfile)\n",
    "\n",
    "        # Convert the data to float32 and write it to file\n",
    "        arr = arr.astype(np.float32)\n",
    "        arr.tofile(outfile)\n"
   ]
  },
  {
   "cell_type": "code",
   "execution_count": 3,
   "metadata": {},
   "outputs": [],
   "source": [
    "def load_data(filename):\n",
    "    \"\"\"\n",
    "    Reads a 2D floating point array in a simple format.\n",
    "\n",
    "    * The first 4 bytes are an unsigned integer with the number of rows.\n",
    "    * The second 4 bytes are an unsigned integer with the number of columns.\n",
    "    * The remaining data are rows*cols 32-bit floats.\n",
    "\n",
    "    Parameters\n",
    "    ----------\n",
    "    filename: string or path\n",
    "       The filename to write to\n",
    "\n",
    "    Returns\n",
    "    -------\n",
    "    arr: np.ndarray\n",
    "       Array of float32s read in.\n",
    "\n",
    "    \"\"\"\n",
    "\n",
    "    # Open a file handle for binary reading\n",
    "    with open(filename, \"rb\") as infile:\n",
    "\n",
    "        # Read 2 unsigned integers to get the array's shape\n",
    "        sh = np.fromfile(infile, dtype=np.uint32, count=2)\n",
    "\n",
    "        # Read the remaining data\n",
    "        arr = np.fromfile(infile, dtype=np.float32, count=np.prod(sh))\n",
    "\n",
    "        # Reshape the array to the expected shape\n",
    "        arr.shape = sh\n",
    "\n",
    "    return arr"
   ]
  },
  {
   "cell_type": "code",
   "execution_count": 4,
   "metadata": {},
   "outputs": [
    {
     "data": {
      "text/plain": [
       "array([[-0.4750221 ,  0.        ,  0.        , ...,  0.        ,\n",
       "         0.        ,  0.        ],\n",
       "       [ 0.        , -0.42282605, -0.7274977 , ..., -0.6449849 ,\n",
       "        -0.559965  , -0.3072434 ],\n",
       "       [ 0.        ,  0.        ,  0.        , ...,  0.        ,\n",
       "         0.        ,  0.        ],\n",
       "       ...,\n",
       "       [ 0.        ,  0.        ,  0.        , ...,  0.        ,\n",
       "         0.        ,  0.        ],\n",
       "       [ 0.        ,  0.5137205 ,  0.8843607 , ...,  0.79266924,\n",
       "         0.6945973 ,  0.40235144],\n",
       "       [ 0.        ,  0.        ,  0.        , ...,  0.        ,\n",
       "         0.        ,  0.        ]], dtype=float32)"
      ]
     },
     "execution_count": 4,
     "metadata": {},
     "output_type": "execute_result"
    }
   ],
   "source": [
    "load_data(\"computed_00100.arr\")"
   ]
  },
  {
   "cell_type": "code",
   "execution_count": 5,
   "metadata": {},
   "outputs": [
    {
     "data": {
      "text/plain": [
       "array([[-4.7678072e-02,  0.0000000e+00,  0.0000000e+00, ...,\n",
       "         0.0000000e+00,  0.0000000e+00,  0.0000000e+00],\n",
       "       [-0.0000000e+00, -3.8489468e-02, -6.6259004e-02, ...,\n",
       "        -6.6259019e-02, -3.8489483e-02,  1.1121070e-16],\n",
       "       [ 0.0000000e+00,  0.0000000e+00,  0.0000000e+00, ...,\n",
       "         0.0000000e+00,  0.0000000e+00,  0.0000000e+00],\n",
       "       ...,\n",
       "       [ 0.0000000e+00,  0.0000000e+00,  0.0000000e+00, ...,\n",
       "         0.0000000e+00,  0.0000000e+00,  0.0000000e+00],\n",
       "       [-0.0000000e+00, -9.3148723e-02, -1.6035405e-01, ...,\n",
       "        -1.6035409e-01, -9.3148760e-02,  2.6914207e-16],\n",
       "       [ 0.0000000e+00,  0.0000000e+00,  0.0000000e+00, ...,\n",
       "         0.0000000e+00,  0.0000000e+00,  0.0000000e+00]], dtype=float32)"
      ]
     },
     "execution_count": 5,
     "metadata": {},
     "output_type": "execute_result"
    }
   ],
   "source": [
    "load_data(\"true_00100.arr\")"
   ]
  },
  {
   "cell_type": "code",
   "execution_count": null,
   "metadata": {},
   "outputs": [],
   "source": [
    "load_data()"
   ]
  }
 ],
 "metadata": {
  "kernelspec": {
   "display_name": "Python 3",
   "language": "python",
   "name": "python3"
  },
  "language_info": {
   "codemirror_mode": {
    "name": "ipython",
    "version": 3
   },
   "file_extension": ".py",
   "mimetype": "text/x-python",
   "name": "python",
   "nbconvert_exporter": "python",
   "pygments_lexer": "ipython3",
   "version": "3.8.6"
  }
 },
 "nbformat": 4,
 "nbformat_minor": 4
}
