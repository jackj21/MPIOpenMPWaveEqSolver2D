{
 "cells": [
  {
   "cell_type": "code",
   "execution_count": 2,
   "metadata": {},
   "outputs": [
    {
     "name": "stderr",
     "output_type": "stream",
     "text": [
      "Matplotlib created a temporary config/cache directory at /localscratch/147702/matplotlib-l8hd2gps because the default path (/home/jovyan/.cache/matplotlib) is not a writable directory; it is highly recommended to set the MPLCONFIGDIR environment variable to a writable directory, in particular to speed up the import of Matplotlib and to better support multiprocessing.\n"
     ]
    }
   ],
   "source": [
    "import numpy as np\n",
    "import pandas as pd\n",
    "import matplotlib.pyplot as plt\n",
    "import csv"
   ]
  },
  {
   "cell_type": "code",
   "execution_count": 3,
   "metadata": {},
   "outputs": [
    {
     "data": {
      "text/html": [
       "<div>\n",
       "<style scoped>\n",
       "    .dataframe tbody tr th:only-of-type {\n",
       "        vertical-align: middle;\n",
       "    }\n",
       "\n",
       "    .dataframe tbody tr th {\n",
       "        vertical-align: top;\n",
       "    }\n",
       "\n",
       "    .dataframe thead th {\n",
       "        text-align: right;\n",
       "    }\n",
       "</style>\n",
       "<table border=\"1\" class=\"dataframe\">\n",
       "  <thead>\n",
       "    <tr style=\"text-align: right;\">\n",
       "      <th></th>\n",
       "      <th>p</th>\n",
       "      <th>nt</th>\n",
       "      <th>time</th>\n",
       "    </tr>\n",
       "    <tr>\n",
       "      <th>n</th>\n",
       "      <th></th>\n",
       "      <th></th>\n",
       "      <th></th>\n",
       "    </tr>\n",
       "  </thead>\n",
       "  <tbody>\n",
       "    <tr>\n",
       "      <th>1001</th>\n",
       "      <td>1</td>\n",
       "      <td>250</td>\n",
       "      <td>4.840157</td>\n",
       "    </tr>\n",
       "    <tr>\n",
       "      <th>2002</th>\n",
       "      <td>2</td>\n",
       "      <td>250</td>\n",
       "      <td>9.208059</td>\n",
       "    </tr>\n",
       "    <tr>\n",
       "      <th>4004</th>\n",
       "      <td>4</td>\n",
       "      <td>250</td>\n",
       "      <td>18.755888</td>\n",
       "    </tr>\n",
       "    <tr>\n",
       "      <th>8008</th>\n",
       "      <td>8</td>\n",
       "      <td>250</td>\n",
       "      <td>37.593853</td>\n",
       "    </tr>\n",
       "    <tr>\n",
       "      <th>16016</th>\n",
       "      <td>16</td>\n",
       "      <td>250</td>\n",
       "      <td>77.186368</td>\n",
       "    </tr>\n",
       "    <tr>\n",
       "      <th>32032</th>\n",
       "      <td>32</td>\n",
       "      <td>250</td>\n",
       "      <td>176.799459</td>\n",
       "    </tr>\n",
       "    <tr>\n",
       "      <th>64064</th>\n",
       "      <td>64</td>\n",
       "      <td>250</td>\n",
       "      <td>398.274790</td>\n",
       "    </tr>\n",
       "    <tr>\n",
       "      <th>128128</th>\n",
       "      <td>128</td>\n",
       "      <td>250</td>\n",
       "      <td>984.619115</td>\n",
       "    </tr>\n",
       "  </tbody>\n",
       "</table>\n",
       "</div>"
      ],
      "text/plain": [
       "          p   nt        time\n",
       "n                           \n",
       "1001      1  250    4.840157\n",
       "2002      2  250    9.208059\n",
       "4004      4  250   18.755888\n",
       "8008      8  250   37.593853\n",
       "16016    16  250   77.186368\n",
       "32032    32  250  176.799459\n",
       "64064    64  250  398.274790\n",
       "128128  128  250  984.619115"
      ]
     },
     "execution_count": 3,
     "metadata": {},
     "output_type": "execute_result"
    }
   ],
   "source": [
    "#import weak csv and grouped\n",
    "df_weak = pd.read_csv('wave_time_weak.csv', header=0, sep=' ')\n",
    "\n",
    "df_weak_means = df_weak.groupby(df_weak['n']).mean()\n",
    "df_weak_means"
   ]
  },
  {
   "cell_type": "code",
   "execution_count": 8,
   "metadata": {},
   "outputs": [
    {
     "data": {
      "text/html": [
       "<div>\n",
       "<style scoped>\n",
       "    .dataframe tbody tr th:only-of-type {\n",
       "        vertical-align: middle;\n",
       "    }\n",
       "\n",
       "    .dataframe tbody tr th {\n",
       "        vertical-align: top;\n",
       "    }\n",
       "\n",
       "    .dataframe thead th {\n",
       "        text-align: right;\n",
       "    }\n",
       "</style>\n",
       "<table border=\"1\" class=\"dataframe\">\n",
       "  <thead>\n",
       "    <tr style=\"text-align: right;\">\n",
       "      <th></th>\n",
       "      <th>p</th>\n",
       "      <th>nt</th>\n",
       "      <th>time</th>\n",
       "      <th>speedup</th>\n",
       "      <th>speedup2</th>\n",
       "    </tr>\n",
       "    <tr>\n",
       "      <th>n</th>\n",
       "      <th></th>\n",
       "      <th></th>\n",
       "      <th></th>\n",
       "      <th></th>\n",
       "      <th></th>\n",
       "    </tr>\n",
       "  </thead>\n",
       "  <tbody>\n",
       "    <tr>\n",
       "      <th>1001</th>\n",
       "      <td>1</td>\n",
       "      <td>250</td>\n",
       "      <td>4.840157</td>\n",
       "      <td>1.000000</td>\n",
       "      <td>1.000000</td>\n",
       "    </tr>\n",
       "    <tr>\n",
       "      <th>2002</th>\n",
       "      <td>2</td>\n",
       "      <td>250</td>\n",
       "      <td>9.208059</td>\n",
       "      <td>0.525644</td>\n",
       "      <td>1.474356</td>\n",
       "    </tr>\n",
       "    <tr>\n",
       "      <th>4004</th>\n",
       "      <td>4</td>\n",
       "      <td>250</td>\n",
       "      <td>18.755888</td>\n",
       "      <td>0.258061</td>\n",
       "      <td>3.225818</td>\n",
       "    </tr>\n",
       "    <tr>\n",
       "      <th>8008</th>\n",
       "      <td>8</td>\n",
       "      <td>250</td>\n",
       "      <td>37.593853</td>\n",
       "      <td>0.128749</td>\n",
       "      <td>7.098760</td>\n",
       "    </tr>\n",
       "    <tr>\n",
       "      <th>16016</th>\n",
       "      <td>16</td>\n",
       "      <td>250</td>\n",
       "      <td>77.186368</td>\n",
       "      <td>0.062707</td>\n",
       "      <td>15.059389</td>\n",
       "    </tr>\n",
       "    <tr>\n",
       "      <th>32032</th>\n",
       "      <td>32</td>\n",
       "      <td>250</td>\n",
       "      <td>176.799459</td>\n",
       "      <td>0.027377</td>\n",
       "      <td>31.151327</td>\n",
       "    </tr>\n",
       "    <tr>\n",
       "      <th>64064</th>\n",
       "      <td>64</td>\n",
       "      <td>250</td>\n",
       "      <td>398.274790</td>\n",
       "      <td>0.012153</td>\n",
       "      <td>63.234373</td>\n",
       "    </tr>\n",
       "    <tr>\n",
       "      <th>128128</th>\n",
       "      <td>128</td>\n",
       "      <td>250</td>\n",
       "      <td>984.619115</td>\n",
       "      <td>0.004916</td>\n",
       "      <td>127.375698</td>\n",
       "    </tr>\n",
       "  </tbody>\n",
       "</table>\n",
       "</div>"
      ],
      "text/plain": [
       "          p   nt        time   speedup    speedup2\n",
       "n                                                 \n",
       "1001      1  250    4.840157  1.000000    1.000000\n",
       "2002      2  250    9.208059  0.525644    1.474356\n",
       "4004      4  250   18.755888  0.258061    3.225818\n",
       "8008      8  250   37.593853  0.128749    7.098760\n",
       "16016    16  250   77.186368  0.062707   15.059389\n",
       "32032    32  250  176.799459  0.027377   31.151327\n",
       "64064    64  250  398.274790  0.012153   63.234373\n",
       "128128  128  250  984.619115  0.004916  127.375698"
      ]
     },
     "execution_count": 8,
     "metadata": {},
     "output_type": "execute_result"
    }
   ],
   "source": [
    "#weak speedup calc - speedup2 contains the correct speedup values\n",
    "weak_speedup = []\n",
    "for idx, val in enumerate(df_weak_means['time']):\n",
    "    weak_speedup.append((df_weak_means['time'].iloc[0] / val))\n",
    "df_weak_means['speedup'] = weak_speedup\n",
    "df_weak_means['speedup2'] = df_weak_means['speedup'] + ((1-df_weak_means['speedup']) * df_weak_means['p'])\n",
    "df_weak_means"
   ]
  },
  {
   "cell_type": "code",
   "execution_count": 11,
   "metadata": {},
   "outputs": [
    {
     "data": {
      "text/plain": [
       "Text(0, 0.5, 'Avg. Run Time (s)')"
      ]
     },
     "execution_count": 11,
     "metadata": {},
     "output_type": "execute_result"
    },
    {
     "data": {
      "image/png": "[encoded data removed]",
      "text/plain": [
       "<Figure size 432x288 with 1 Axes>"
      ]
     },
     "metadata": {
      "needs_background": "light"
     },
     "output_type": "display_data"
    }
   ],
   "source": [
    "#weak runtime plot - correct and workinng\n",
    "fig = plt.figure()\n",
    "ax = plt.gca()\n",
    "ax.loglog(df_weak_means['p'], df_weak_means['time'], label='Run Time')\n",
    "plt.legend()\n",
    "plt.title(\"Run-Time for Weak Scalability Study\")\n",
    "plt.xlabel(\"P\")\n",
    "plt.ylabel(\"Avg. Run Time (s)\")"
   ]
  },
  {
   "cell_type": "code",
   "execution_count": 10,
   "metadata": {},
   "outputs": [
    {
     "data": {
      "text/plain": [
       "Text(0, 0.5, 'S')"
      ]
     },
     "execution_count": 10,
     "metadata": {},
     "output_type": "execute_result"
    },
    {
     "data": {
      "image/png": "[encoded data removed]",
      "text/plain": [
       "<Figure size 432x288 with 1 Axes>"
      ]
     },
     "metadata": {
      "needs_background": "light"
     },
     "output_type": "display_data"
    }
   ],
   "source": [
    "#weak speedup plot - we believe this is incorrect and has to do with speedup calculation\n",
    "fig = plt.figure()\n",
    "ax = plt.gca()\n",
    "plt.loglog(df_weak_means['p'], df_weak_means['p'], label=\"Ideal Speedup\", color=\"black\",linestyle=\"--\")\n",
    "ax.loglog(df_weak_means['p'], df_weak_means['speedup2'], label=\"Actual Speedup\")\n",
    "plt.legend()\n",
    "plt.title(\"Speedup for Weak Scalability\")\n",
    "plt.xlabel(\"P\")\n",
    "plt.ylabel(\"S\")\n"
   ]
  },
  {
   "cell_type": "code",
   "execution_count": 99,
   "metadata": {},
   "outputs": [
    {
     "data": {
      "text/html": [
       "<div>\n",
       "<style scoped>\n",
       "    .dataframe tbody tr th:only-of-type {\n",
       "        vertical-align: middle;\n",
       "    }\n",
       "\n",
       "    .dataframe tbody tr th {\n",
       "        vertical-align: top;\n",
       "    }\n",
       "\n",
       "    .dataframe thead th {\n",
       "        text-align: right;\n",
       "    }\n",
       "</style>\n",
       "<table border=\"1\" class=\"dataframe\">\n",
       "  <thead>\n",
       "    <tr style=\"text-align: right;\">\n",
       "      <th></th>\n",
       "      <th>n</th>\n",
       "      <th>nt</th>\n",
       "      <th>time</th>\n",
       "    </tr>\n",
       "    <tr>\n",
       "      <th>p</th>\n",
       "      <th></th>\n",
       "      <th></th>\n",
       "      <th></th>\n",
       "    </tr>\n",
       "  </thead>\n",
       "  <tbody>\n",
       "    <tr>\n",
       "      <th>1</th>\n",
       "      <td>10001</td>\n",
       "      <td>25</td>\n",
       "      <td>60.823013</td>\n",
       "    </tr>\n",
       "    <tr>\n",
       "      <th>2</th>\n",
       "      <td>10001</td>\n",
       "      <td>25</td>\n",
       "      <td>29.165254</td>\n",
       "    </tr>\n",
       "    <tr>\n",
       "      <th>4</th>\n",
       "      <td>10001</td>\n",
       "      <td>25</td>\n",
       "      <td>14.564202</td>\n",
       "    </tr>\n",
       "    <tr>\n",
       "      <th>8</th>\n",
       "      <td>10001</td>\n",
       "      <td>25</td>\n",
       "      <td>7.272969</td>\n",
       "    </tr>\n",
       "    <tr>\n",
       "      <th>16</th>\n",
       "      <td>10001</td>\n",
       "      <td>25</td>\n",
       "      <td>3.620977</td>\n",
       "    </tr>\n",
       "    <tr>\n",
       "      <th>32</th>\n",
       "      <td>10001</td>\n",
       "      <td>25</td>\n",
       "      <td>1.853884</td>\n",
       "    </tr>\n",
       "    <tr>\n",
       "      <th>64</th>\n",
       "      <td>10001</td>\n",
       "      <td>25</td>\n",
       "      <td>0.992904</td>\n",
       "    </tr>\n",
       "    <tr>\n",
       "      <th>128</th>\n",
       "      <td>10001</td>\n",
       "      <td>25</td>\n",
       "      <td>0.631934</td>\n",
       "    </tr>\n",
       "    <tr>\n",
       "      <th>256</th>\n",
       "      <td>10001</td>\n",
       "      <td>25</td>\n",
       "      <td>0.320837</td>\n",
       "    </tr>\n",
       "    <tr>\n",
       "      <th>512</th>\n",
       "      <td>10001</td>\n",
       "      <td>25</td>\n",
       "      <td>0.167811</td>\n",
       "    </tr>\n",
       "  </tbody>\n",
       "</table>\n",
       "</div>"
      ],
      "text/plain": [
       "         n  nt       time\n",
       "p                        \n",
       "1    10001  25  60.823013\n",
       "2    10001  25  29.165254\n",
       "4    10001  25  14.564202\n",
       "8    10001  25   7.272969\n",
       "16   10001  25   3.620977\n",
       "32   10001  25   1.853884\n",
       "64   10001  25   0.992904\n",
       "128  10001  25   0.631934\n",
       "256  10001  25   0.320837\n",
       "512  10001  25   0.167811"
      ]
     },
     "execution_count": 99,
     "metadata": {},
     "output_type": "execute_result"
    }
   ],
   "source": [
    "#STRONG CSV - PROBLEM 2 of Analysis\n",
    "df_strong = pd.read_csv('wave_time_strong.csv', header=0, sep=' ')\n",
    "df_strong_means = df_strong.groupby(df_strong['p']).mean()\n",
    "df_strong_means"
   ]
  },
  {
   "cell_type": "code",
   "execution_count": 101,
   "metadata": {},
   "outputs": [
    {
     "data": {
      "text/html": [
       "<div>\n",
       "<style scoped>\n",
       "    .dataframe tbody tr th:only-of-type {\n",
       "        vertical-align: middle;\n",
       "    }\n",
       "\n",
       "    .dataframe tbody tr th {\n",
       "        vertical-align: top;\n",
       "    }\n",
       "\n",
       "    .dataframe thead th {\n",
       "        text-align: right;\n",
       "    }\n",
       "</style>\n",
       "<table border=\"1\" class=\"dataframe\">\n",
       "  <thead>\n",
       "    <tr style=\"text-align: right;\">\n",
       "      <th></th>\n",
       "      <th>n</th>\n",
       "      <th>nt</th>\n",
       "      <th>time</th>\n",
       "      <th>speedup</th>\n",
       "    </tr>\n",
       "    <tr>\n",
       "      <th>p</th>\n",
       "      <th></th>\n",
       "      <th></th>\n",
       "      <th></th>\n",
       "      <th></th>\n",
       "    </tr>\n",
       "  </thead>\n",
       "  <tbody>\n",
       "    <tr>\n",
       "      <th>1</th>\n",
       "      <td>10001</td>\n",
       "      <td>25</td>\n",
       "      <td>60.823013</td>\n",
       "      <td>1.000000</td>\n",
       "    </tr>\n",
       "    <tr>\n",
       "      <th>2</th>\n",
       "      <td>10001</td>\n",
       "      <td>25</td>\n",
       "      <td>29.165254</td>\n",
       "      <td>2.085461</td>\n",
       "    </tr>\n",
       "    <tr>\n",
       "      <th>4</th>\n",
       "      <td>10001</td>\n",
       "      <td>25</td>\n",
       "      <td>14.564202</td>\n",
       "      <td>4.176200</td>\n",
       "    </tr>\n",
       "    <tr>\n",
       "      <th>8</th>\n",
       "      <td>10001</td>\n",
       "      <td>25</td>\n",
       "      <td>7.272969</td>\n",
       "      <td>8.362887</td>\n",
       "    </tr>\n",
       "    <tr>\n",
       "      <th>16</th>\n",
       "      <td>10001</td>\n",
       "      <td>25</td>\n",
       "      <td>3.620977</td>\n",
       "      <td>16.797405</td>\n",
       "    </tr>\n",
       "    <tr>\n",
       "      <th>32</th>\n",
       "      <td>10001</td>\n",
       "      <td>25</td>\n",
       "      <td>1.853884</td>\n",
       "      <td>32.808422</td>\n",
       "    </tr>\n",
       "    <tr>\n",
       "      <th>64</th>\n",
       "      <td>10001</td>\n",
       "      <td>25</td>\n",
       "      <td>0.992904</td>\n",
       "      <td>61.257717</td>\n",
       "    </tr>\n",
       "    <tr>\n",
       "      <th>128</th>\n",
       "      <td>10001</td>\n",
       "      <td>25</td>\n",
       "      <td>0.631934</td>\n",
       "      <td>96.249034</td>\n",
       "    </tr>\n",
       "    <tr>\n",
       "      <th>256</th>\n",
       "      <td>10001</td>\n",
       "      <td>25</td>\n",
       "      <td>0.320837</td>\n",
       "      <td>189.576339</td>\n",
       "    </tr>\n",
       "    <tr>\n",
       "      <th>512</th>\n",
       "      <td>10001</td>\n",
       "      <td>25</td>\n",
       "      <td>0.167811</td>\n",
       "      <td>362.450433</td>\n",
       "    </tr>\n",
       "  </tbody>\n",
       "</table>\n",
       "</div>"
      ],
      "text/plain": [
       "         n  nt       time     speedup\n",
       "p                                    \n",
       "1    10001  25  60.823013    1.000000\n",
       "2    10001  25  29.165254    2.085461\n",
       "4    10001  25  14.564202    4.176200\n",
       "8    10001  25   7.272969    8.362887\n",
       "16   10001  25   3.620977   16.797405\n",
       "32   10001  25   1.853884   32.808422\n",
       "64   10001  25   0.992904   61.257717\n",
       "128  10001  25   0.631934   96.249034\n",
       "256  10001  25   0.320837  189.576339\n",
       "512  10001  25   0.167811  362.450433"
      ]
     },
     "execution_count": 101,
     "metadata": {},
     "output_type": "execute_result"
    }
   ],
   "source": [
    "#strong scale speedup calc\n",
    "speedup = []\n",
    "for val in df_strong_means['time']:\n",
    "    speedup.append(df_strong_means['time'][1] / val)\n",
    "df_strong_means['speedup'] = speedup\n",
    "df_strong_means\n",
    "\n"
   ]
  },
  {
   "cell_type": "code",
   "execution_count": 104,
   "metadata": {},
   "outputs": [
    {
     "data": {
      "text/plain": [
       "Text(0, 0.5, 'Avg. Run Time (s)')"
      ]
     },
     "execution_count": 104,
     "metadata": {},
     "output_type": "execute_result"
    },
    {
     "data": {
      "image/png": "[encoded data removed]",
      "text/plain": [
       "<Figure size 432x288 with 1 Axes>"
      ]
     },
     "metadata": {
      "needs_background": "light"
     },
     "output_type": "display_data"
    }
   ],
   "source": [
    "#strong runtime plot\n",
    "fig = plt.figure()\n",
    "ax = plt.gca()\n",
    "ax.loglog(df_strong_means.index, df_strong_means['time'], label='Run Time')\n",
    "plt.legend()\n",
    "plt.title(\"Run-Time for Strong Scalability Study\")\n",
    "plt.xlabel(\"P\")\n",
    "plt.ylabel(\"Avg. Run Time (s)\")"
   ]
  },
  {
   "cell_type": "code",
   "execution_count": 109,
   "metadata": {},
   "outputs": [
    {
     "data": {
      "text/plain": [
       "Text(0, 0.5, 'Avg. Run Time (s)')"
      ]
     },
     "execution_count": 109,
     "metadata": {},
     "output_type": "execute_result"
    },
    {
     "data": {
      "image/png": "[encoded data removed]",
      "text/plain": [
       "<Figure size 432x288 with 1 Axes>"
      ]
     },
     "metadata": {
      "needs_background": "light"
     },
     "output_type": "display_data"
    }
   ],
   "source": [
    "#strong speedup plot\n",
    "\n",
    "fig = plt.figure()\n",
    "ax = plt.gca()\n",
    "plt.loglog(df_strong_means.index, df_strong_means.index, label=\"ideal speedup\", color=\"black\",linestyle=\"--\")\n",
    "plt.loglog(df_strong_means.index, df_strong_means.speedup, label='Speedup')\n",
    "plt.legend()\n",
    "plt.title(\"Speedup for Strong Scalability Study\")\n",
    "plt.xlabel(\"P\")\n",
    "plt.ylabel(\"Avg. Run Time (s)\")"
   ]
  },
  {
   "cell_type": "code",
   "execution_count": 16,
   "metadata": {},
   "outputs": [],
   "source": [
    "def plot_run_time(filename):\n",
    "    df = pd.read_csv(filename, index_col=0,sep=' ')\n",
    "    \n",
    "    fig = plt.figure()\n",
    "    ax = plt.gca()\n",
    "    \n",
    "    strong = \"strong\" in filename\n",
    "    exp_type = \"strong\" if strong else \"weak\"\n",
    "    \n",
    "    df_group = df.groupby(df.index).mean()\n",
    "    \n",
    "    P = df_group.index.to_numpy().astype(np.int)\n",
    "    time = df_group['time'].to_numpy().astype(np.float32)\n",
    "    label = 'Run Time'\n",
    "    ax.loglog(P, time, label=label)\n",
    "    \n",
    "    plt.legend()\n",
    "    plt.title(\"run-time for\" + \" \" + exp_type + \" study\")\n",
    "    plt.xlabel(\"P\")\n",
    "    plt.ylabel(\"Avg. Run Time (s)\")\n",
    "    \n",
    "    return ax\n",
    "\n",
    "def plot_speedup(filename):\n",
    "    df = pd.read_csv(filename, index_col=0,sep=' ')\n",
    "    \n",
    "    fig = plt.figure()\n",
    "    ax = plt.gca()\n",
    "    \n",
    "    strong = \"strong\" in filename\n",
    "    exp_type = \"strong\" if strong else \"weak\"\n",
    "    \n",
    "    df_group = df.groupby(df.index).mean()\n",
    "    \n",
    "    P = df_group.index.to_numpy().astype(np.int)\n",
    "    plt.loglog(df_group.index, df_group.index, label='Ideal Speedup', color='black', linestyle=\"--\")\n",
    "    \n",
    "    if strong:\n",
    "        T_1 = df['time'][1]\n",
    "    \n",
    "    \n",
    "    \n",
    "\n",
    "#def plot_speedup(filename):\n",
    "    df = pd.read_csv(filename, index_col=0,sep=' ')\n",
    "    \n",
    "    fig = plt.figure()\n",
    "    ax = plt.gca()\n",
    "    \n",
    "    strong = \"strong\" in filename\n",
    "    exp_type = \"strong\" if strong else \"weak\"\n",
    "    \n",
    "    df_group = df.groupby(df.index).mean()\n",
    "    P = df_group.index.to_numpy().astype(np.int)\n",
    "    plt.loglog(P, P, label=\"ideal speedup\", color=\"black\",linestyle=\"--\")\n",
    "    \n",
    "    time = df_group['time'].to_numpy().astype(np.float32)\n",
    "    T_s = np.float32(df['time'].iloc[1])\n",
    "    \n",
    "    if strong:\n",
    "        T_1 = T_s\n",
    "    else:\n",
    "        T_1 = np.sqrt(P) * T_s\n",
    "    S_P = T_1 / P\n",
    "    \n",
    "    label = 'Time'\n",
    "    \n",
    "    ax.loglog(P, S_P, label=label)\n",
    "    \n",
    "    plt.legend()\n",
    "    plt.title(\"speedup for\" + \" \" + filename)\n",
    "    plt.xlabel(\"P\")\n",
    "    plt.ylabel(\"S\")\n",
    "    \n",
    "    return ax"
   ]
  },
  {
   "cell_type": "code",
   "execution_count": 18,
   "metadata": {},
   "outputs": [
    {
     "data": {
      "text/plain": [
       "<AxesSubplot:title={'center':'run-time for strong study'}, xlabel='P', ylabel='Avg. Run Time (s)'>"
      ]
     },
     "execution_count": 18,
     "metadata": {},
     "output_type": "execute_result"
    },
    {
     "data": {
      "image/png": "[encoded data removed]",
      "text/plain": [
       "<Figure size 432x288 with 1 Axes>"
      ]
     },
     "metadata": {
      "needs_background": "light"
     },
     "output_type": "display_data"
    }
   ],
   "source": [
    "#strong runtime plot\n",
    "plot_run_time(\"wave_time_strong.csv\")"
   ]
  },
  {
   "cell_type": "code",
   "execution_count": 17,
   "metadata": {},
   "outputs": [
    {
     "data": {
      "text/plain": [
       "<AxesSubplot:title={'center':'speedup for wave_time_strong.csv'}, xlabel='P', ylabel='S'>"
      ]
     },
     "execution_count": 17,
     "metadata": {},
     "output_type": "execute_result"
    },
    {
     "data": {
      "image/png": "[encoded data removed]",
      "text/plain": [
       "<Figure size 432x288 with 1 Axes>"
      ]
     },
     "metadata": {
      "needs_background": "light"
     },
     "output_type": "display_data"
    }
   ],
   "source": [
    "#strong speedup plot\n",
    "plot_speedup(\"wave_time_strong.csv\")"
   ]
  },
  {
   "cell_type": "code",
   "execution_count": null,
   "metadata": {},
   "outputs": [],
   "source": []
  },
  {
   "cell_type": "code",
   "execution_count": null,
   "metadata": {},
   "outputs": [],
   "source": []
  }
 ],
 "metadata": {
  "kernelspec": {
   "display_name": "Python 3",
   "language": "python",
   "name": "python3"
  },
  "language_info": {
   "codemirror_mode": {
    "name": "ipython",
    "version": 3
   },
   "file_extension": ".py",
   "mimetype": "text/x-python",
   "name": "python",
   "nbconvert_exporter": "python",
   "pygments_lexer": "ipython3",
   "version": "3.8.6"
  }
 },
 "nbformat": 4,
 "nbformat_minor": 4
}
