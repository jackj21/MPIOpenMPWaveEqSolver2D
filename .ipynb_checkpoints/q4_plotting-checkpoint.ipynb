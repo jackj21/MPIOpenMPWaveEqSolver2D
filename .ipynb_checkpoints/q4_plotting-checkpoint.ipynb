{
 "cells": [
  {
   "cell_type": "code",
   "execution_count": 79,
   "metadata": {},
   "outputs": [],
   "source": [
    "import numpy as np\n",
    "import pandas as pd\n",
    "import matplotlib.pyplot as plt\n",
    "import csv\n",
    "import statsmodels.formula.api as smf"
   ]
  },
  {
   "cell_type": "code",
   "execution_count": 32,
   "metadata": {},
   "outputs": [
    {
     "data": {
      "text/html": [
       "<div>\n",
       "<style scoped>\n",
       "    .dataframe tbody tr th:only-of-type {\n",
       "        vertical-align: middle;\n",
       "    }\n",
       "\n",
       "    .dataframe tbody tr th {\n",
       "        vertical-align: top;\n",
       "    }\n",
       "\n",
       "    .dataframe thead th {\n",
       "        text-align: right;\n",
       "    }\n",
       "</style>\n",
       "<table border=\"1\" class=\"dataframe\">\n",
       "  <thead>\n",
       "    <tr style=\"text-align: right;\">\n",
       "      <th></th>\n",
       "      <th>p</th>\n",
       "      <th>nt</th>\n",
       "      <th>time</th>\n",
       "    </tr>\n",
       "    <tr>\n",
       "      <th>n</th>\n",
       "      <th></th>\n",
       "      <th></th>\n",
       "      <th></th>\n",
       "    </tr>\n",
       "  </thead>\n",
       "  <tbody>\n",
       "    <tr>\n",
       "      <th>2501</th>\n",
       "      <td>1024</td>\n",
       "      <td>100</td>\n",
       "      <td>0.061981</td>\n",
       "    </tr>\n",
       "    <tr>\n",
       "      <th>5001</th>\n",
       "      <td>1024</td>\n",
       "      <td>100</td>\n",
       "      <td>0.094940</td>\n",
       "    </tr>\n",
       "    <tr>\n",
       "      <th>10001</th>\n",
       "      <td>1024</td>\n",
       "      <td>100</td>\n",
       "      <td>0.270683</td>\n",
       "    </tr>\n",
       "    <tr>\n",
       "      <th>25001</th>\n",
       "      <td>1024</td>\n",
       "      <td>100</td>\n",
       "      <td>1.702291</td>\n",
       "    </tr>\n",
       "    <tr>\n",
       "      <th>50001</th>\n",
       "      <td>1024</td>\n",
       "      <td>100</td>\n",
       "      <td>6.503397</td>\n",
       "    </tr>\n",
       "    <tr>\n",
       "      <th>75001</th>\n",
       "      <td>1024</td>\n",
       "      <td>100</td>\n",
       "      <td>14.818689</td>\n",
       "    </tr>\n",
       "    <tr>\n",
       "      <th>100001</th>\n",
       "      <td>1024</td>\n",
       "      <td>100</td>\n",
       "      <td>26.209840</td>\n",
       "    </tr>\n",
       "  </tbody>\n",
       "</table>\n",
       "</div>"
      ],
      "text/plain": [
       "           p   nt       time\n",
       "n                           \n",
       "2501    1024  100   0.061981\n",
       "5001    1024  100   0.094940\n",
       "10001   1024  100   0.270683\n",
       "25001   1024  100   1.702291\n",
       "50001   1024  100   6.503397\n",
       "75001   1024  100  14.818689\n",
       "100001  1024  100  26.209840"
      ]
     },
     "execution_count": 32,
     "metadata": {},
     "output_type": "execute_result"
    }
   ],
   "source": [
    "#Project 4 Plot\n",
    "df = pd.read_csv('wave_time_all.csv', header=0, sep=' ')\n",
    "df2 = df.groupby(df['n']).mean()\n",
    "df2"
   ]
  },
  {
   "cell_type": "code",
   "execution_count": 33,
   "metadata": {},
   "outputs": [
    {
     "data": {
      "text/html": [
       "<div>\n",
       "<style scoped>\n",
       "    .dataframe tbody tr th:only-of-type {\n",
       "        vertical-align: middle;\n",
       "    }\n",
       "\n",
       "    .dataframe tbody tr th {\n",
       "        vertical-align: top;\n",
       "    }\n",
       "\n",
       "    .dataframe thead th {\n",
       "        text-align: right;\n",
       "    }\n",
       "</style>\n",
       "<table border=\"1\" class=\"dataframe\">\n",
       "  <thead>\n",
       "    <tr style=\"text-align: right;\">\n",
       "      <th></th>\n",
       "      <th>p</th>\n",
       "      <th>nt</th>\n",
       "      <th>time</th>\n",
       "    </tr>\n",
       "    <tr>\n",
       "      <th>n</th>\n",
       "      <th></th>\n",
       "      <th></th>\n",
       "      <th></th>\n",
       "    </tr>\n",
       "  </thead>\n",
       "  <tbody>\n",
       "    <tr>\n",
       "      <th>6255001</th>\n",
       "      <td>1024</td>\n",
       "      <td>100</td>\n",
       "      <td>0.061981</td>\n",
       "    </tr>\n",
       "    <tr>\n",
       "      <th>25010001</th>\n",
       "      <td>1024</td>\n",
       "      <td>100</td>\n",
       "      <td>0.094940</td>\n",
       "    </tr>\n",
       "    <tr>\n",
       "      <th>100020001</th>\n",
       "      <td>1024</td>\n",
       "      <td>100</td>\n",
       "      <td>0.270683</td>\n",
       "    </tr>\n",
       "    <tr>\n",
       "      <th>625050001</th>\n",
       "      <td>1024</td>\n",
       "      <td>100</td>\n",
       "      <td>1.702291</td>\n",
       "    </tr>\n",
       "    <tr>\n",
       "      <th>2500100001</th>\n",
       "      <td>1024</td>\n",
       "      <td>100</td>\n",
       "      <td>6.503397</td>\n",
       "    </tr>\n",
       "    <tr>\n",
       "      <th>5625150001</th>\n",
       "      <td>1024</td>\n",
       "      <td>100</td>\n",
       "      <td>14.818689</td>\n",
       "    </tr>\n",
       "    <tr>\n",
       "      <th>10000200001</th>\n",
       "      <td>1024</td>\n",
       "      <td>100</td>\n",
       "      <td>26.209840</td>\n",
       "    </tr>\n",
       "  </tbody>\n",
       "</table>\n",
       "</div>"
      ],
      "text/plain": [
       "                p   nt       time\n",
       "n                                \n",
       "6255001      1024  100   0.061981\n",
       "25010001     1024  100   0.094940\n",
       "100020001    1024  100   0.270683\n",
       "625050001    1024  100   1.702291\n",
       "2500100001   1024  100   6.503397\n",
       "5625150001   1024  100  14.818689\n",
       "10000200001  1024  100  26.209840"
      ]
     },
     "execution_count": 33,
     "metadata": {},
     "output_type": "execute_result"
    }
   ],
   "source": [
    "df2.index = pow(df2.index, 2)\n",
    "df2"
   ]
  },
  {
   "cell_type": "code",
   "execution_count": 34,
   "metadata": {},
   "outputs": [
    {
     "data": {
      "text/plain": [
       "Text(0, 0.5, 'Avg. Run Time (s)')"
      ]
     },
     "execution_count": 34,
     "metadata": {},
     "output_type": "execute_result"
    },
    {
     "data": {
      "image/png": "[encoded data removed]",
      "text/plain": [
       "<Figure size 432x288 with 1 Axes>"
      ]
     },
     "metadata": {
      "needs_background": "light"
     },
     "output_type": "display_data"
    }
   ],
   "source": [
    "plt.loglog(df2.index, df2['time'])\n",
    "plt.title(\"Timed Wave Equation Simulator\")\n",
    "plt.xlabel(\"N\")\n",
    "plt.ylabel(\"Avg. Run Time (s)\")"
   ]
  },
  {
   "cell_type": "code",
   "execution_count": 35,
   "metadata": {},
   "outputs": [],
   "source": [
    "#Project 2 Plot"
   ]
  },
  {
   "cell_type": "code",
   "execution_count": 82,
   "metadata": {},
   "outputs": [
    {
     "data": {
      "text/plain": [
       "Intercept   -3.374227\n",
       "n            0.000097\n",
       "dtype: float64"
      ]
     },
     "execution_count": 82,
     "metadata": {},
     "output_type": "execute_result"
    }
   ],
   "source": [
    "df_proj2 = pd.read_csv('project02_data.csv', header=0, sep=',')\n",
    "df_proj2.columns = ['n', 'time']\n",
    "df_proj2['n'] = pow(df_proj2['n'], 2)\n",
    "\n",
    "model = smf.ols('time ~ n', data=df_proj2)\n",
    "model = model.fit()\n",
    "model.params"
   ]
  },
  {
   "cell_type": "code",
   "execution_count": 42,
   "metadata": {},
   "outputs": [
    {
     "data": {
      "text/plain": [
       "Text(0, 0.5, 'Avg. Run Time (s)')"
      ]
     },
     "execution_count": 42,
     "metadata": {},
     "output_type": "execute_result"
    },
    {
     "data": {
      "image/png": "[encoded data removed]",
      "text/plain": [
       "<Figure size 432x288 with 1 Axes>"
      ]
     },
     "metadata": {
      "needs_background": "light"
     },
     "output_type": "display_data"
    }
   ],
   "source": [
    "plt.loglog(df_proj2['n'], df_proj2['time'])\n",
    "plt.title(\"Project 2\")\n",
    "plt.xlabel(\"N\")\n",
    "plt.ylabel(\"Avg. Run Time (s)\")"
   ]
  },
  {
   "cell_type": "code",
   "execution_count": 38,
   "metadata": {},
   "outputs": [],
   "source": [
    "##Project 3 Plot"
   ]
  },
  {
   "cell_type": "code",
   "execution_count": 86,
   "metadata": {},
   "outputs": [
    {
     "data": {
      "text/plain": [
       "Intercept    2.114171e-01\n",
       "n            3.587990e-08\n",
       "dtype: float64"
      ]
     },
     "execution_count": 86,
     "metadata": {},
     "output_type": "execute_result"
    }
   ],
   "source": [
    "df_proj3 = pd.read_csv('project03_data.csv', header=0, sep=' ')\n",
    "#df_proj3\n",
    "df_proj3.columns = ['n', 'nt', 't_total', 'n_threads']\n",
    "df_proj3['n'] = pow(df_proj3['n'], 2)\n",
    "\n",
    "model3 = smf.ols('t_total ~ n', data=df_proj3)\n",
    "model3 = model3.fit()\n",
    "model3.params\n",
    "#df_proj3"
   ]
  },
  {
   "cell_type": "code",
   "execution_count": null,
   "metadata": {},
   "outputs": [],
   "source": []
  },
  {
   "cell_type": "code",
   "execution_count": 75,
   "metadata": {},
   "outputs": [
    {
     "data": {
      "text/plain": [
       "Text(0, 0.5, 'Avg. Run Time (s)')"
      ]
     },
     "execution_count": 75,
     "metadata": {},
     "output_type": "execute_result"
    },
    {
     "data": {
      "image/png": "[encoded data removed]",
      "text/plain": [
       "<Figure size 432x288 with 1 Axes>"
      ]
     },
     "metadata": {
      "needs_background": "light"
     },
     "output_type": "display_data"
    }
   ],
   "source": [
    "plt.loglog(n, time, label=\"proj01\")\n",
    "plt.loglog(df_proj2['n'], df_proj2['time'], label=\"proj02\")\n",
    "plt.loglog(df_proj3['n'], df_proj3['t_total'], label=\"proj03\")\n",
    "plt.loglog(df2.index, df2['time'], label=\"proj04\")\n",
    "plt.loglog(df2b.index, df2b['time'], label = '256 MPI Tasks')\n",
    "plt.loglog(df5.index, df5['time'], label=\"512 MPI Tasks\")\n",
    "plt.legend()\n",
    "plt.title(\"Task 4 Runtimes Compared\")\n",
    "plt.xlabel(\"N\")\n",
    "plt.ylabel(\"Avg. Run Time (s)\")"
   ]
  },
  {
   "cell_type": "code",
   "execution_count": 95,
   "metadata": {},
   "outputs": [
    {
     "data": {
      "text/html": [
       "<div>\n",
       "<style scoped>\n",
       "    .dataframe tbody tr th:only-of-type {\n",
       "        vertical-align: middle;\n",
       "    }\n",
       "\n",
       "    .dataframe tbody tr th {\n",
       "        vertical-align: top;\n",
       "    }\n",
       "\n",
       "    .dataframe thead th {\n",
       "        text-align: right;\n",
       "    }\n",
       "</style>\n",
       "<table border=\"1\" class=\"dataframe\">\n",
       "  <thead>\n",
       "    <tr style=\"text-align: right;\">\n",
       "      <th></th>\n",
       "      <th>n</th>\n",
       "    </tr>\n",
       "  </thead>\n",
       "  <tbody>\n",
       "    <tr>\n",
       "      <th>1.19</th>\n",
       "      <td>11</td>\n",
       "    </tr>\n",
       "    <tr>\n",
       "      <th>1.78</th>\n",
       "      <td>676</td>\n",
       "    </tr>\n",
       "    <tr>\n",
       "      <th>3.83</th>\n",
       "      <td>2601</td>\n",
       "    </tr>\n",
       "    <tr>\n",
       "      <th>22.82</th>\n",
       "      <td>10201</td>\n",
       "    </tr>\n",
       "    <tr>\n",
       "      <th>175.31</th>\n",
       "      <td>40401</td>\n",
       "    </tr>\n",
       "    <tr>\n",
       "      <th>592.46</th>\n",
       "      <td>90601</td>\n",
       "    </tr>\n",
       "  </tbody>\n",
       "</table>\n",
       "</div>"
      ],
      "text/plain": [
       "            n\n",
       "1.19       11\n",
       "1.78      676\n",
       "3.83     2601\n",
       "22.82   10201\n",
       "175.31  40401\n",
       "592.46  90601"
      ]
     },
     "execution_count": 95,
     "metadata": {},
     "output_type": "execute_result"
    }
   ],
   "source": [
    "#q1 data\n",
    "n = [11, 26, 51, 101, 201, 301]\n",
    "for i in range(1,len(n)):\n",
    "    n[i] = pow(n[i], 2)\n",
    "\n",
    "time = [1.19, 1.78, 3.83, 22.82, 175.31, 592.46]\n",
    "q1_df = pd.DataFrame(n, time)\n",
    "\n",
    "q1_df.reset_index()\n",
    "q1_df.columns = ['n']\n",
    "\n",
    "\n",
    "\n",
    "#model1 = smf.ols('index ~ n', data=q1_df)\n",
    "#model1 = model1.fit()\n",
    "#model1.params\n",
    "\n",
    "#plt.loglog(n, time)\n",
    "#q1_df.columns=['idx', 'time', 'n']\n",
    "#q1_df.columns=['time', 'n']"
   ]
  },
  {
   "cell_type": "code",
   "execution_count": 99,
   "metadata": {},
   "outputs": [
    {
     "name": "stdout",
     "output_type": "stream",
     "text": [
      "623.2124098268617\n"
     ]
    }
   ],
   "source": [
    "x = np.array([11, 26, 51, 101, 201, 301])\n",
    "for i in range(1,len(x)):\n",
    "    x[i] = pow(x[i], 2)\n",
    "y = np.array([1.19, 1.78, 3.83, 22.82, 175.31, 592.46])\n",
    "m, b = np.polyfit(x, y, 1)\n",
    "print(m*100001 + b)"
   ]
  },
  {
   "cell_type": "code",
   "execution_count": null,
   "metadata": {},
   "outputs": [],
   "source": []
  },
  {
   "cell_type": "code",
   "execution_count": 69,
   "metadata": {},
   "outputs": [
    {
     "data": {
      "text/html": [
       "<div>\n",
       "<style scoped>\n",
       "    .dataframe tbody tr th:only-of-type {\n",
       "        vertical-align: middle;\n",
       "    }\n",
       "\n",
       "    .dataframe tbody tr th {\n",
       "        vertical-align: top;\n",
       "    }\n",
       "\n",
       "    .dataframe thead th {\n",
       "        text-align: right;\n",
       "    }\n",
       "</style>\n",
       "<table border=\"1\" class=\"dataframe\">\n",
       "  <thead>\n",
       "    <tr style=\"text-align: right;\">\n",
       "      <th></th>\n",
       "      <th>p</th>\n",
       "      <th>nt</th>\n",
       "      <th>time</th>\n",
       "    </tr>\n",
       "    <tr>\n",
       "      <th>n</th>\n",
       "      <th></th>\n",
       "      <th></th>\n",
       "      <th></th>\n",
       "    </tr>\n",
       "  </thead>\n",
       "  <tbody>\n",
       "    <tr>\n",
       "      <th>2501</th>\n",
       "      <td>1024</td>\n",
       "      <td>100</td>\n",
       "      <td>0.061981</td>\n",
       "    </tr>\n",
       "    <tr>\n",
       "      <th>5001</th>\n",
       "      <td>1024</td>\n",
       "      <td>100</td>\n",
       "      <td>0.094940</td>\n",
       "    </tr>\n",
       "    <tr>\n",
       "      <th>10001</th>\n",
       "      <td>1024</td>\n",
       "      <td>100</td>\n",
       "      <td>0.270683</td>\n",
       "    </tr>\n",
       "    <tr>\n",
       "      <th>25001</th>\n",
       "      <td>1024</td>\n",
       "      <td>100</td>\n",
       "      <td>1.702291</td>\n",
       "    </tr>\n",
       "    <tr>\n",
       "      <th>50001</th>\n",
       "      <td>1024</td>\n",
       "      <td>100</td>\n",
       "      <td>6.503397</td>\n",
       "    </tr>\n",
       "    <tr>\n",
       "      <th>75001</th>\n",
       "      <td>1024</td>\n",
       "      <td>100</td>\n",
       "      <td>14.818689</td>\n",
       "    </tr>\n",
       "    <tr>\n",
       "      <th>100001</th>\n",
       "      <td>1024</td>\n",
       "      <td>100</td>\n",
       "      <td>26.209840</td>\n",
       "    </tr>\n",
       "  </tbody>\n",
       "</table>\n",
       "</div>"
      ],
      "text/plain": [
       "           p   nt       time\n",
       "n                           \n",
       "2501    1024  100   0.061981\n",
       "5001    1024  100   0.094940\n",
       "10001   1024  100   0.270683\n",
       "25001   1024  100   1.702291\n",
       "50001   1024  100   6.503397\n",
       "75001   1024  100  14.818689\n",
       "100001  1024  100  26.209840"
      ]
     },
     "execution_count": 69,
     "metadata": {},
     "output_type": "execute_result"
    }
   ],
   "source": [
    "#512 MPI Tasks - 1st exp\n",
    "df5 = pd.read_csv('wave_time_all_q5.csv', header=0, sep=' ')\n",
    "df5 = df.groupby(df['n']).mean()\n",
    "df5"
   ]
  },
  {
   "cell_type": "code",
   "execution_count": 70,
   "metadata": {},
   "outputs": [
    {
     "data": {
      "text/html": [
       "<div>\n",
       "<style scoped>\n",
       "    .dataframe tbody tr th:only-of-type {\n",
       "        vertical-align: middle;\n",
       "    }\n",
       "\n",
       "    .dataframe tbody tr th {\n",
       "        vertical-align: top;\n",
       "    }\n",
       "\n",
       "    .dataframe thead th {\n",
       "        text-align: right;\n",
       "    }\n",
       "</style>\n",
       "<table border=\"1\" class=\"dataframe\">\n",
       "  <thead>\n",
       "    <tr style=\"text-align: right;\">\n",
       "      <th></th>\n",
       "      <th>p</th>\n",
       "      <th>nt</th>\n",
       "      <th>time</th>\n",
       "    </tr>\n",
       "    <tr>\n",
       "      <th>n</th>\n",
       "      <th></th>\n",
       "      <th></th>\n",
       "      <th></th>\n",
       "    </tr>\n",
       "  </thead>\n",
       "  <tbody>\n",
       "    <tr>\n",
       "      <th>6255001</th>\n",
       "      <td>1024</td>\n",
       "      <td>100</td>\n",
       "      <td>0.061981</td>\n",
       "    </tr>\n",
       "    <tr>\n",
       "      <th>25010001</th>\n",
       "      <td>1024</td>\n",
       "      <td>100</td>\n",
       "      <td>0.094940</td>\n",
       "    </tr>\n",
       "    <tr>\n",
       "      <th>100020001</th>\n",
       "      <td>1024</td>\n",
       "      <td>100</td>\n",
       "      <td>0.270683</td>\n",
       "    </tr>\n",
       "    <tr>\n",
       "      <th>625050001</th>\n",
       "      <td>1024</td>\n",
       "      <td>100</td>\n",
       "      <td>1.702291</td>\n",
       "    </tr>\n",
       "    <tr>\n",
       "      <th>2500100001</th>\n",
       "      <td>1024</td>\n",
       "      <td>100</td>\n",
       "      <td>6.503397</td>\n",
       "    </tr>\n",
       "    <tr>\n",
       "      <th>5625150001</th>\n",
       "      <td>1024</td>\n",
       "      <td>100</td>\n",
       "      <td>14.818689</td>\n",
       "    </tr>\n",
       "    <tr>\n",
       "      <th>10000200001</th>\n",
       "      <td>1024</td>\n",
       "      <td>100</td>\n",
       "      <td>26.209840</td>\n",
       "    </tr>\n",
       "  </tbody>\n",
       "</table>\n",
       "</div>"
      ],
      "text/plain": [
       "                p   nt       time\n",
       "n                                \n",
       "6255001      1024  100   0.061981\n",
       "25010001     1024  100   0.094940\n",
       "100020001    1024  100   0.270683\n",
       "625050001    1024  100   1.702291\n",
       "2500100001   1024  100   6.503397\n",
       "5625150001   1024  100  14.818689\n",
       "10000200001  1024  100  26.209840"
      ]
     },
     "execution_count": 70,
     "metadata": {},
     "output_type": "execute_result"
    }
   ],
   "source": [
    "df5.index = pow(df5.index, 2)\n",
    "df5"
   ]
  },
  {
   "cell_type": "code",
   "execution_count": 71,
   "metadata": {},
   "outputs": [
    {
     "data": {
      "text/plain": [
       "[<matplotlib.lines.Line2D at 0x2aaade145580>]"
      ]
     },
     "execution_count": 71,
     "metadata": {},
     "output_type": "execute_result"
    },
    {
     "data": {
      "image/png": "[encoded data removed]",
      "text/plain": [
       "<Figure size 432x288 with 1 Axes>"
      ]
     },
     "metadata": {
      "needs_background": "light"
     },
     "output_type": "display_data"
    }
   ],
   "source": []
  },
  {
   "cell_type": "code",
   "execution_count": 73,
   "metadata": {},
   "outputs": [
    {
     "data": {
      "text/html": [
       "<div>\n",
       "<style scoped>\n",
       "    .dataframe tbody tr th:only-of-type {\n",
       "        vertical-align: middle;\n",
       "    }\n",
       "\n",
       "    .dataframe tbody tr th {\n",
       "        vertical-align: top;\n",
       "    }\n",
       "\n",
       "    .dataframe thead th {\n",
       "        text-align: right;\n",
       "    }\n",
       "</style>\n",
       "<table border=\"1\" class=\"dataframe\">\n",
       "  <thead>\n",
       "    <tr style=\"text-align: right;\">\n",
       "      <th></th>\n",
       "      <th>p</th>\n",
       "      <th>nt</th>\n",
       "      <th>time</th>\n",
       "    </tr>\n",
       "    <tr>\n",
       "      <th>n</th>\n",
       "      <th></th>\n",
       "      <th></th>\n",
       "      <th></th>\n",
       "    </tr>\n",
       "  </thead>\n",
       "  <tbody>\n",
       "    <tr>\n",
       "      <th>2501</th>\n",
       "      <td>256</td>\n",
       "      <td>100</td>\n",
       "      <td>0.030501</td>\n",
       "    </tr>\n",
       "    <tr>\n",
       "      <th>5001</th>\n",
       "      <td>256</td>\n",
       "      <td>100</td>\n",
       "      <td>0.078232</td>\n",
       "    </tr>\n",
       "    <tr>\n",
       "      <th>10001</th>\n",
       "      <td>256</td>\n",
       "      <td>100</td>\n",
       "      <td>0.278407</td>\n",
       "    </tr>\n",
       "    <tr>\n",
       "      <th>25001</th>\n",
       "      <td>256</td>\n",
       "      <td>100</td>\n",
       "      <td>1.729775</td>\n",
       "    </tr>\n",
       "    <tr>\n",
       "      <th>50001</th>\n",
       "      <td>256</td>\n",
       "      <td>100</td>\n",
       "      <td>6.858915</td>\n",
       "    </tr>\n",
       "    <tr>\n",
       "      <th>75001</th>\n",
       "      <td>256</td>\n",
       "      <td>100</td>\n",
       "      <td>15.360061</td>\n",
       "    </tr>\n",
       "    <tr>\n",
       "      <th>100001</th>\n",
       "      <td>256</td>\n",
       "      <td>100</td>\n",
       "      <td>27.529181</td>\n",
       "    </tr>\n",
       "  </tbody>\n",
       "</table>\n",
       "</div>"
      ],
      "text/plain": [
       "          p   nt       time\n",
       "n                          \n",
       "2501    256  100   0.030501\n",
       "5001    256  100   0.078232\n",
       "10001   256  100   0.278407\n",
       "25001   256  100   1.729775\n",
       "50001   256  100   6.858915\n",
       "75001   256  100  15.360061\n",
       "100001  256  100  27.529181"
      ]
     },
     "execution_count": 73,
     "metadata": {},
     "output_type": "execute_result"
    }
   ],
   "source": [
    "#256 MPI Tasks - 2nd experiment\n",
    "df_b = pd.read_csv('wave_time_all_q5_b.csv', header=0, sep=' ')\n",
    "df2b = df_b.groupby(df_b['n']).mean()\n",
    "df2b"
   ]
  },
  {
   "cell_type": "code",
   "execution_count": 74,
   "metadata": {},
   "outputs": [
    {
     "data": {
      "text/html": [
       "<div>\n",
       "<style scoped>\n",
       "    .dataframe tbody tr th:only-of-type {\n",
       "        vertical-align: middle;\n",
       "    }\n",
       "\n",
       "    .dataframe tbody tr th {\n",
       "        vertical-align: top;\n",
       "    }\n",
       "\n",
       "    .dataframe thead th {\n",
       "        text-align: right;\n",
       "    }\n",
       "</style>\n",
       "<table border=\"1\" class=\"dataframe\">\n",
       "  <thead>\n",
       "    <tr style=\"text-align: right;\">\n",
       "      <th></th>\n",
       "      <th>p</th>\n",
       "      <th>nt</th>\n",
       "      <th>time</th>\n",
       "    </tr>\n",
       "    <tr>\n",
       "      <th>n</th>\n",
       "      <th></th>\n",
       "      <th></th>\n",
       "      <th></th>\n",
       "    </tr>\n",
       "  </thead>\n",
       "  <tbody>\n",
       "    <tr>\n",
       "      <th>6255001</th>\n",
       "      <td>256</td>\n",
       "      <td>100</td>\n",
       "      <td>0.030501</td>\n",
       "    </tr>\n",
       "    <tr>\n",
       "      <th>25010001</th>\n",
       "      <td>256</td>\n",
       "      <td>100</td>\n",
       "      <td>0.078232</td>\n",
       "    </tr>\n",
       "    <tr>\n",
       "      <th>100020001</th>\n",
       "      <td>256</td>\n",
       "      <td>100</td>\n",
       "      <td>0.278407</td>\n",
       "    </tr>\n",
       "    <tr>\n",
       "      <th>625050001</th>\n",
       "      <td>256</td>\n",
       "      <td>100</td>\n",
       "      <td>1.729775</td>\n",
       "    </tr>\n",
       "    <tr>\n",
       "      <th>2500100001</th>\n",
       "      <td>256</td>\n",
       "      <td>100</td>\n",
       "      <td>6.858915</td>\n",
       "    </tr>\n",
       "    <tr>\n",
       "      <th>5625150001</th>\n",
       "      <td>256</td>\n",
       "      <td>100</td>\n",
       "      <td>15.360061</td>\n",
       "    </tr>\n",
       "    <tr>\n",
       "      <th>10000200001</th>\n",
       "      <td>256</td>\n",
       "      <td>100</td>\n",
       "      <td>27.529181</td>\n",
       "    </tr>\n",
       "  </tbody>\n",
       "</table>\n",
       "</div>"
      ],
      "text/plain": [
       "               p   nt       time\n",
       "n                               \n",
       "6255001      256  100   0.030501\n",
       "25010001     256  100   0.078232\n",
       "100020001    256  100   0.278407\n",
       "625050001    256  100   1.729775\n",
       "2500100001   256  100   6.858915\n",
       "5625150001   256  100  15.360061\n",
       "10000200001  256  100  27.529181"
      ]
     },
     "execution_count": 74,
     "metadata": {},
     "output_type": "execute_result"
    }
   ],
   "source": [
    "df2b.index = pow(df2b.index, 2)\n",
    "df2b"
   ]
  },
  {
   "cell_type": "code",
   "execution_count": null,
   "metadata": {},
   "outputs": [],
   "source": []
  }
 ],
 "metadata": {
  "kernelspec": {
   "display_name": "Python 3",
   "language": "python",
   "name": "python3"
  },
  "language_info": {
   "codemirror_mode": {
    "name": "ipython",
    "version": 3
   },
   "file_extension": ".py",
   "mimetype": "text/x-python",
   "name": "python",
   "nbconvert_exporter": "python",
   "pygments_lexer": "ipython3",
   "version": "3.8.6"
  }
 },
 "nbformat": 4,
 "nbformat_minor": 4
}
