{
 "cells": [
  {
   "cell_type": "code",
   "execution_count": 2,
   "metadata": {},
   "outputs": [
    {
     "name": "stderr",
     "output_type": "stream",
     "text": [
      "Matplotlib created a temporary config/cache directory at /localscratch/147702/matplotlib-nftbfnr2 because the default path (/home/jovyan/.cache/matplotlib) is not a writable directory; it is highly recommended to set the MPLCONFIGDIR environment variable to a writable directory, in particular to speed up the import of Matplotlib and to better support multiprocessing.\n"
     ]
    }
   ],
   "source": [
    "import numpy as np\n",
    "import pandas as pd\n",
    "import matplotlib.pyplot as plt\n",
    "import csv"
   ]
  },
  {
   "cell_type": "code",
   "execution_count": 12,
   "metadata": {},
   "outputs": [
    {
     "data": {
      "text/html": [
       "<div>\n",
       "<style scoped>\n",
       "    .dataframe tbody tr th:only-of-type {\n",
       "        vertical-align: middle;\n",
       "    }\n",
       "\n",
       "    .dataframe tbody tr th {\n",
       "        vertical-align: top;\n",
       "    }\n",
       "\n",
       "    .dataframe thead th {\n",
       "        text-align: right;\n",
       "    }\n",
       "</style>\n",
       "<table border=\"1\" class=\"dataframe\">\n",
       "  <thead>\n",
       "    <tr style=\"text-align: right;\">\n",
       "      <th></th>\n",
       "      <th>p</th>\n",
       "      <th>nt</th>\n",
       "      <th>time</th>\n",
       "    </tr>\n",
       "    <tr>\n",
       "      <th>n</th>\n",
       "      <th></th>\n",
       "      <th></th>\n",
       "      <th></th>\n",
       "    </tr>\n",
       "  </thead>\n",
       "  <tbody>\n",
       "    <tr>\n",
       "      <th>2501</th>\n",
       "      <td>1024</td>\n",
       "      <td>100</td>\n",
       "      <td>0.061981</td>\n",
       "    </tr>\n",
       "    <tr>\n",
       "      <th>5001</th>\n",
       "      <td>1024</td>\n",
       "      <td>100</td>\n",
       "      <td>0.094940</td>\n",
       "    </tr>\n",
       "    <tr>\n",
       "      <th>10001</th>\n",
       "      <td>1024</td>\n",
       "      <td>100</td>\n",
       "      <td>0.270683</td>\n",
       "    </tr>\n",
       "    <tr>\n",
       "      <th>25001</th>\n",
       "      <td>1024</td>\n",
       "      <td>100</td>\n",
       "      <td>1.702291</td>\n",
       "    </tr>\n",
       "    <tr>\n",
       "      <th>50001</th>\n",
       "      <td>1024</td>\n",
       "      <td>100</td>\n",
       "      <td>6.503397</td>\n",
       "    </tr>\n",
       "    <tr>\n",
       "      <th>75001</th>\n",
       "      <td>1024</td>\n",
       "      <td>100</td>\n",
       "      <td>14.818689</td>\n",
       "    </tr>\n",
       "    <tr>\n",
       "      <th>100001</th>\n",
       "      <td>1024</td>\n",
       "      <td>100</td>\n",
       "      <td>26.209840</td>\n",
       "    </tr>\n",
       "  </tbody>\n",
       "</table>\n",
       "</div>"
      ],
      "text/plain": [
       "           p   nt       time\n",
       "n                           \n",
       "2501    1024  100   0.061981\n",
       "5001    1024  100   0.094940\n",
       "10001   1024  100   0.270683\n",
       "25001   1024  100   1.702291\n",
       "50001   1024  100   6.503397\n",
       "75001   1024  100  14.818689\n",
       "100001  1024  100  26.209840"
      ]
     },
     "execution_count": 12,
     "metadata": {},
     "output_type": "execute_result"
    }
   ],
   "source": [
    "df = pd.read_csv('wave_time_all.csv', header=0, sep=' ')\n",
    "df2 = df.groupby(df['n']).mean()\n",
    "df2"
   ]
  },
  {
   "cell_type": "code",
   "execution_count": 13,
   "metadata": {},
   "outputs": [
    {
     "data": {
      "text/html": [
       "<div>\n",
       "<style scoped>\n",
       "    .dataframe tbody tr th:only-of-type {\n",
       "        vertical-align: middle;\n",
       "    }\n",
       "\n",
       "    .dataframe tbody tr th {\n",
       "        vertical-align: top;\n",
       "    }\n",
       "\n",
       "    .dataframe thead th {\n",
       "        text-align: right;\n",
       "    }\n",
       "</style>\n",
       "<table border=\"1\" class=\"dataframe\">\n",
       "  <thead>\n",
       "    <tr style=\"text-align: right;\">\n",
       "      <th></th>\n",
       "      <th>p</th>\n",
       "      <th>nt</th>\n",
       "      <th>time</th>\n",
       "    </tr>\n",
       "    <tr>\n",
       "      <th>n</th>\n",
       "      <th></th>\n",
       "      <th></th>\n",
       "      <th></th>\n",
       "    </tr>\n",
       "  </thead>\n",
       "  <tbody>\n",
       "    <tr>\n",
       "      <th>6255001</th>\n",
       "      <td>1024</td>\n",
       "      <td>100</td>\n",
       "      <td>0.061981</td>\n",
       "    </tr>\n",
       "    <tr>\n",
       "      <th>25010001</th>\n",
       "      <td>1024</td>\n",
       "      <td>100</td>\n",
       "      <td>0.094940</td>\n",
       "    </tr>\n",
       "    <tr>\n",
       "      <th>100020001</th>\n",
       "      <td>1024</td>\n",
       "      <td>100</td>\n",
       "      <td>0.270683</td>\n",
       "    </tr>\n",
       "    <tr>\n",
       "      <th>625050001</th>\n",
       "      <td>1024</td>\n",
       "      <td>100</td>\n",
       "      <td>1.702291</td>\n",
       "    </tr>\n",
       "    <tr>\n",
       "      <th>2500100001</th>\n",
       "      <td>1024</td>\n",
       "      <td>100</td>\n",
       "      <td>6.503397</td>\n",
       "    </tr>\n",
       "    <tr>\n",
       "      <th>5625150001</th>\n",
       "      <td>1024</td>\n",
       "      <td>100</td>\n",
       "      <td>14.818689</td>\n",
       "    </tr>\n",
       "    <tr>\n",
       "      <th>10000200001</th>\n",
       "      <td>1024</td>\n",
       "      <td>100</td>\n",
       "      <td>26.209840</td>\n",
       "    </tr>\n",
       "  </tbody>\n",
       "</table>\n",
       "</div>"
      ],
      "text/plain": [
       "                p   nt       time\n",
       "n                                \n",
       "6255001      1024  100   0.061981\n",
       "25010001     1024  100   0.094940\n",
       "100020001    1024  100   0.270683\n",
       "625050001    1024  100   1.702291\n",
       "2500100001   1024  100   6.503397\n",
       "5625150001   1024  100  14.818689\n",
       "10000200001  1024  100  26.209840"
      ]
     },
     "execution_count": 13,
     "metadata": {},
     "output_type": "execute_result"
    }
   ],
   "source": [
    "df2.index = pow(df2.index, 2)\n",
    "df2"
   ]
  },
  {
   "cell_type": "code",
   "execution_count": 21,
   "metadata": {},
   "outputs": [
    {
     "data": {
      "text/plain": [
       "Text(0, 0.5, 'Avg. Run Time (s)')"
      ]
     },
     "execution_count": 21,
     "metadata": {},
     "output_type": "execute_result"
    },
    {
     "data": {
      "image/png": "[encoded data removed]",
      "text/plain": [
       "<Figure size 432x288 with 1 Axes>"
      ]
     },
     "metadata": {
      "needs_background": "light"
     },
     "output_type": "display_data"
    }
   ],
   "source": [
    "plt.loglog(df2.index, df2['time'])\n",
    "plt.title(\"Timed Wave Equation Simulator\")\n",
    "plt.xlabel(\"N\")\n",
    "plt.ylabel(\"Avg. Run Time (s)\")"
   ]
  },
  {
   "cell_type": "code",
   "execution_count": null,
   "metadata": {},
   "outputs": [],
   "source": []
  }
 ],
 "metadata": {
  "kernelspec": {
   "display_name": "Python 3",
   "language": "python",
   "name": "python3"
  },
  "language_info": {
   "codemirror_mode": {
    "name": "ipython",
    "version": 3
   },
   "file_extension": ".py",
   "mimetype": "text/x-python",
   "name": "python",
   "nbconvert_exporter": "python",
   "pygments_lexer": "ipython3",
   "version": "3.8.6"
  }
 },
 "nbformat": 4,
 "nbformat_minor": 4
}
